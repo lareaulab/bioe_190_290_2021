{
 "cells": [
  {
   "cell_type": "markdown",
   "metadata": {},
   "source": [
    "Our goal is to make a scatterplot comparing the per-transcript counts from bowtie2 and kallisto. First, import pandas, a popular python library for data analysis, and import matplotlib for plotting.\n",
    "\n",
    "In this notebook, if you see a string saying 'fill in ...', you're supposed to enter the appropriate value there."
   ]
  },
  {
   "cell_type": "code",
   "execution_count": null,
   "metadata": {},
   "outputs": [],
   "source": [
    "import pandas"
   ]
  },
  {
   "cell_type": "code",
   "execution_count": 4,
   "metadata": {},
   "outputs": [],
   "source": [
    "import matplotlib.pyplot as plt"
   ]
  },
  {
   "cell_type": "markdown",
   "metadata": {},
   "source": [
    "We'll read in the data with pandas, creating two dataframes. The bowtie2 output file doesn't have column labels, so you'll have to add them. I looked at the samtools idxstats documentation to find what they are: \"transcript\", \"length\", \"count\", and \"unmapped\"."
   ]
  },
  {
   "cell_type": "code",
   "execution_count": 3,
   "metadata": {
    "scrolled": true
   },
   "outputs": [],
   "source": [
    "bowtie = pandas.read_table( \"fill in name of the bowtie input file\" , header=None, names=( 'fill in the column names in quotes, separated by commas' )\n",
    "bowtie"
   ]
  },
  {
   "cell_type": "markdown",
   "metadata": {},
   "source": [
    "That last line is the count of all the reads that don't align to a transcript. We don't want that, so save everything but that line."
   ]
  },
  {
   "cell_type": "code",
   "execution_count": 5,
   "metadata": {},
   "outputs": [],
   "source": [
    "bowtie = bowtie[:188753]\n",
    "bowtie"
   ]
  },
  {
   "cell_type": "markdown",
   "metadata": {},
   "source": [
    "And now, read in the kallisto output. This one does have a line of column headers, hooray."
   ]
  },
  {
   "cell_type": "code",
   "execution_count": 6,
   "metadata": {},
   "outputs": [],
   "source": [
    "kallisto = pandas.read_table( \"fill in kallisto input file\", header=0)\n",
    "kallisto"
   ]
  },
  {
   "cell_type": "markdown",
   "metadata": {},
   "source": [
    "As you can see, the first columns of each file look similar. Maybe they're identical! That would make it really easy to compare the counts from the two files. First, we'll try this with '=='."
   ]
  },
  {
   "cell_type": "code",
   "execution_count": 10,
   "metadata": {},
   "outputs": [],
   "source": [
    "bowtie[\"fill in the name of the column listing transcripts in the bowtie data\"] == kallisto[\"fill in the name of the column listing transcripts in the kallisto data\"]"
   ]
  },
  {
   "cell_type": "markdown",
   "metadata": {},
   "source": [
    "Does that tell you for sure? Now try it with the pandas function equals(), which works on a whole dataframe or a column of a dataframe (called a 'series' in pandas)."
   ]
  },
  {
   "cell_type": "code",
   "execution_count": 7,
   "metadata": {},
   "outputs": [],
   "source": [
    "bowtie[\"fill in bowtie column name\"].equals(kallisto[\"fill in kallisto column name\"])"
   ]
  },
  {
   "cell_type": "markdown",
   "metadata": {},
   "source": [
    "Hooray! Now we'll plot them against each other. Plot it in log scale, because that's a more natural scale for count data like this. Remember to label the axes and the plot so I know what I'm looking at!"
   ]
  },
  {
   "cell_type": "code",
   "execution_count": 11,
   "metadata": {},
   "outputs": [],
   "source": [
    "plt.plot( \"fill in x\", \"fill in y\", 'o', color='grey')\n",
    "plt.xscale('log')\n",
    "plt.xlim(1,1e6)\n",
    "plt.yscale('log')\n",
    "plt.ylim(1,1e6)\n",
    "plt.xlabel('fill in x axis')\n",
    "plt.ylabel('fill in y axis')\n",
    "plt.title('fill in title')"
   ]
  },
  {
   "cell_type": "markdown",
   "metadata": {},
   "source": [
    "You can tell a lot of points are plotted over each other. So next, let's try to look at the density of points. Hexbin is a quick way to do this. It calculates the number of points within each little hexagon of a grid. Here I'm using a quick and sloppy trick of adding 1 to all the values so it doesn't complain about taking log(0)."
   ]
  },
  {
   "cell_type": "code",
   "execution_count": 13,
   "metadata": {},
   "outputs": [],
   "source": [
    "plt.hexbin( \"fill in x data plus 1\", \"fill in y data plus 1\", bins='log', xscale='log', yscale='log', cmap='Purples')\n",
    "# and give it x and y labels and a title!"
   ]
  },
  {
   "cell_type": "markdown",
   "metadata": {},
   "source": [
    "There you have it! Save the completed notebook and submit it along with your answers to the assignment. The assignment has a few more questions you should answer based on this graph."
   ]
  },
  {
   "cell_type": "code",
   "execution_count": null,
   "metadata": {},
   "outputs": [],
   "source": []
  }
 ],
 "metadata": {
  "kernelspec": {
   "display_name": "Python 3",
   "language": "python",
   "name": "python3"
  },
  "language_info": {
   "codemirror_mode": {
    "name": "ipython",
    "version": 3
   },
   "file_extension": ".py",
   "mimetype": "text/x-python",
   "name": "python",
   "nbconvert_exporter": "python",
   "pygments_lexer": "ipython3",
   "version": "3.8.3"
  }
 },
 "nbformat": 4,
 "nbformat_minor": 2
}
